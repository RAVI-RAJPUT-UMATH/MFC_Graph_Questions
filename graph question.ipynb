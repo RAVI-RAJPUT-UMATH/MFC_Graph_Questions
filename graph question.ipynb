{
 "cells": [
  {
   "cell_type": "markdown",
   "metadata": {},
   "source": [
    "## # 1. Write a code to find the degree of each vertex, and store it in a dictionary. Sort the keys of the dictionary by the degree stored in the values."
   ]
  },
  {
   "cell_type": "code",
   "execution_count": 3,
   "metadata": {},
   "outputs": [
    {
     "name": "stdout",
     "output_type": "stream",
     "text": [
      "Degree of each vertex (sorted):\n",
      "s2: 1\n",
      "s3: 1\n",
      "s1: 2\n"
     ]
    }
   ],
   "source": [
    "# Vertices and connections (Adjacency List)\n",
    "graph = {\n",
    "    's1': ['s2', 's3'],\n",
    "    's2': ['s1'],\n",
    "    's3': ['s1']\n",
    "}\n",
    "\n",
    "# Dictionary to store degree of each vertex\n",
    "degree = {}\n",
    "\n",
    "# Loop through each vertex and count its connections\n",
    "for vertex in graph:\n",
    "    degree[vertex] = len(graph[vertex])\n",
    "\n",
    "# Sort the dictionary by degree values\n",
    "sorted_degree = dict(sorted(degree.items(), key=lambda item: item[1]))\n",
    "\n",
    "# Print the result\n",
    "print(\"Degree of each vertex (sorted):\")\n",
    "for vertex in sorted_degree:\n",
    "    print(f\"{vertex}: {sorted_degree[vertex]}\")\n"
   ]
  },
  {
   "cell_type": "markdown",
   "metadata": {},
   "source": [
    "## # 2. Code to inter-convert between adjacency matrix, adjacency list, and edge list"
   ]
  },
  {
   "cell_type": "code",
   "execution_count": 4,
   "metadata": {},
   "outputs": [
    {
     "name": "stdout",
     "output_type": "stream",
     "text": [
      "Adjacency List from Matrix:\n",
      "{'s1': ['s2', 's3'], 's2': ['s1', 's3'], 's3': ['s1', 's2']}\n",
      "\n",
      "Edge List from Adjacency List:\n",
      "[('s1', 's2'), ('s1', 's3'), ('s2', 's1'), ('s2', 's3'), ('s3', 's1'), ('s3', 's2')]\n",
      "\n",
      "Reconstructed Adjacency List from Edge List:\n",
      "{'s1': ['s2', 's3'], 's2': ['s1', 's3'], 's3': ['s1', 's2']}\n",
      "\n",
      "Reconstructed Adjacency Matrix from List:\n",
      "[[0, 1, 1], [1, 0, 1], [1, 1, 0]]\n"
     ]
    }
   ],
   "source": [
    "# Convert adjacency matrix to adjacency list\n",
    "def adjacency_matrix_to_list(adj_matrix, node_names):\n",
    "    adj_list = {}  # Create an empty dictionary for the adjacency list\n",
    "    \n",
    "    for i in range(len(adj_matrix)):  # Go through each row of the matrix\n",
    "        row = adj_matrix[i]\n",
    "        adj_list[node_names[i]] = []  # Create an empty list for the current node\n",
    "        for j in range(len(row)):  # Go through each column in the row\n",
    "            if row[j] == 1:  # If there is a connection (1), add the neighbor to the list\n",
    "                adj_list[node_names[i]].append(node_names[j])\n",
    "                \n",
    "    return adj_list  # Return the adjacency list\n",
    "\n",
    "\n",
    "# Convert adjacency list to adjacency matrix\n",
    "def adjacency_list_to_matrix(adj_list):\n",
    "    node_names = list(adj_list)  # Get all node names from the adjacency list\n",
    "    size = len(node_names)  # Get the number of nodes\n",
    "    matrix = []  # Create an empty matrix\n",
    "\n",
    "    for i in range(size):  # For each node, create a row in the matrix\n",
    "        row = []\n",
    "        for j in range(size):  # For each column, check if there is a connection\n",
    "            if node_names[j] in adj_list[node_names[i]]:\n",
    "                row.append(1)  # Add 1 if there is a connection\n",
    "            else:\n",
    "                row.append(0)  # Add 0 if there is no connection\n",
    "        matrix.append(row)  # Add the row to the matrix\n",
    "\n",
    "    return matrix  # Return the adjacency matrix\n",
    "\n",
    "\n",
    "# Convert adjacency list to edge list\n",
    "def adjacency_list_to_edge_list(adj_list):\n",
    "    edge_list = []  # Create an empty edge list\n",
    "    for node in adj_list:  # Go through each node\n",
    "        for neighbor in adj_list[node]:  # Go through each neighbor of the node\n",
    "            edge_list.append((node, neighbor))  # Add the edge (node, neighbor) to the edge list\n",
    "    return edge_list  # Return the edge list\n",
    "\n",
    "\n",
    "# Convert edge list to adjacency list\n",
    "def edge_list_to_adjacency_list(edge_list):\n",
    "    adj_list = {}  # Create an empty adjacency list\n",
    "    for u, v in edge_list:  # Go through each edge (u, v)\n",
    "        if u not in adj_list:  # If the node u is not in the list, add it\n",
    "            adj_list[u] = []\n",
    "        adj_list[u].append(v)  # Add v as a neighbor of u\n",
    "    return adj_list  # Return the adjacency list    \n",
    "\n",
    "\n",
    "# ---------------- TEST CASE ----------------\n",
    "\n",
    "# Adjacency matrix of a small graph (triangle: s1-s2-s3-s1)\n",
    "adj_matrix = [\n",
    "    [0, 1, 1],  # s1 is connected to s2 and s3\n",
    "    [1, 0, 1],  # s2 is connected to s1 and s3\n",
    "    [1, 1, 0]   # s3 is connected to s1 and s2\n",
    "]\n",
    "\n",
    "node_names = ['s1', 's2', 's3']\n",
    "\n",
    "# Convert matrix to list\n",
    "adj_list = adjacency_matrix_to_list(adj_matrix, node_names)\n",
    "print(\"Adjacency List from Matrix:\")\n",
    "print(adj_list)\n",
    "\n",
    "# Convert list to edge list\n",
    "edge_list = adjacency_list_to_edge_list(adj_list)\n",
    "print(\"\\nEdge List from Adjacency List:\")\n",
    "print(edge_list)\n",
    "\n",
    "# Convert edge list back to adjacency list\n",
    "reconstructed_adj_list = edge_list_to_adjacency_list(edge_list)\n",
    "print(\"\\nReconstructed Adjacency List from Edge List:\")\n",
    "print(reconstructed_adj_list)\n",
    "\n",
    "# Convert adjacency list back to matrix\n",
    "reconstructed_matrix = adjacency_list_to_matrix(reconstructed_adj_list)\n",
    "print(\"\\nReconstructed Adjacency Matrix from List:\")\n",
    "print(reconstructed_matrix)\n"
   ]
  },
  {
   "cell_type": "markdown",
   "metadata": {},
   "source": [
    "## # 3. Given a graph and two vertices, check if they are adjacent (adjacency list)"
   ]
  },
  {
   "cell_type": "code",
   "execution_count": 5,
   "metadata": {},
   "outputs": [
    {
     "name": "stdout",
     "output_type": "stream",
     "text": [
      "Are s1 and s2 adjacent? True\n",
      "Are s2 and s3 adjacent? False\n",
      "Are s1 and s3 adjacent? True\n"
     ]
    }
   ],
   "source": [
    "# Check if two nodes are adjacent (connected)\n",
    "def are_adjacent(adj_list, u, v):\n",
    "    if u in adj_list:  # Check if u is in the adjacency list\n",
    "        neighbors = adj_list[u]  # Get the neighbors of u\n",
    "        for i in range(len(neighbors)):  # Loop through the neighbors of u\n",
    "            if neighbors[i] == v:  # If v is found in neighbors, u and v are connected\n",
    "                return True\n",
    "    return False  # Return False if v is not a neighbor of u\n",
    "\n",
    "    # Create a simple adjacency list\n",
    "adj_list = {\n",
    "    's1': ['s2', 's3'],\n",
    "    's2': ['s1'],\n",
    "    's3': ['s1']\n",
    "}\n",
    "\n",
    "# Check if s1 and s2 are connected\n",
    "print(\"Are s1 and s2 adjacent?\", are_adjacent(adj_list, 's1', 's2'))  # ✅ Expected: True\n",
    "\n",
    "# Check if s2 and s3 are connected\n",
    "print(\"Are s2 and s3 adjacent?\", are_adjacent(adj_list, 's2', 's3'))  # ❌ Expected: False\n",
    "\n",
    "# Check if s1 and s3 are connected\n",
    "print(\"Are s1 and s3 adjacent?\", are_adjacent(adj_list, 's1', 's3'))  # ✅ Expected: True\n",
    "\n"
   ]
  },
  {
   "cell_type": "markdown",
   "metadata": {},
   "source": [
    "## # 4. Check if a graph is complete (adjacency list)"
   ]
  },
  {
   "cell_type": "code",
   "execution_count": 6,
   "metadata": {},
   "outputs": [
    {
     "name": "stdout",
     "output_type": "stream",
     "text": [
      "Is the graph complete?  True\n"
     ]
    }
   ],
   "source": [
    "# Check if the graph is complete (every node is connected to all other nodes)\n",
    "def is_complete(adj_list):\n",
    "    nodes = list(adj_list)  # Get all the nodes in the graph\n",
    "    count = len(nodes)  # Get the total number of nodes\n",
    "    \n",
    "    for i in range(count):  # Loop through each node\n",
    "        node = nodes[i]  # Get the current node\n",
    "        neighbors = adj_list[node]  # Get the neighbors of the current node\n",
    "        \n",
    "        if len(neighbors) != count - 1:  # If the number of neighbors is not equal to (total nodes - 1)\n",
    "            return False  # The graph is not complete, return False\n",
    "    \n",
    "    return True  # All nodes are connected to all others, return True\n",
    "    # This is a complete graph: s1-s2, s1-s3, s2-s3\n",
    "adj_list_complete = {\n",
    "    's1': ['s2', 's3'],\n",
    "    's2': ['s1', 's3'],\n",
    "    's3': ['s1', 's2']\n",
    "}\n",
    "\n",
    "print(\"Is the graph complete? \", is_complete(adj_list_complete))  # ✅ Expected: True\n",
    "\n"
   ]
  },
  {
   "cell_type": "markdown",
   "metadata": {},
   "source": [
    "## # 5. Check if a graph is connected (adjacency list)"
   ]
  },
  {
   "cell_type": "code",
   "execution_count": 7,
   "metadata": {},
   "outputs": [
    {
     "name": "stdout",
     "output_type": "stream",
     "text": [
      "Is the graph connected? True\n"
     ]
    }
   ],
   "source": [
    "# Check if the graph is connected (every node is reachable from any other node)\n",
    "def is_connected(adj_list):\n",
    "    nodes = list(adj_list)  # Get all the nodes in the graph\n",
    "    visited = []  # Create a list to track visited nodes\n",
    "\n",
    "    # Depth-first search (DFS) function\n",
    "    def dfs(node):\n",
    "        visited.append(node)  # Mark the current node as visited\n",
    "        neighbors = adj_list[node]  # Get the neighbors of the current node\n",
    "        for i in range(len(neighbors)):  # Loop through each neighbor\n",
    "            neighbor = neighbors[i]\n",
    "            if neighbor not in visited:  # If the neighbor hasn't been visited\n",
    "                dfs(neighbor)  # Recursively visit the neighbor\n",
    "\n",
    "    dfs(nodes[0])  # Start DFS from the first node\n",
    "\n",
    "    if len(visited) == len(nodes):  # Check if all nodes were visited\n",
    "        return True  # The graph is connected\n",
    "    else:\n",
    "        return False  # The graph is not connected\n",
    "\n",
    "        # All nodes are connected: s1-s2, s1-s3, s2-s1, s3-s1\n",
    "adj_list_connected = {\n",
    "    's1': ['s2', 's3'],\n",
    "    's2': ['s1'],\n",
    "    's3': ['s1']\n",
    "}\n",
    "\n",
    "print(\"Is the graph connected?\", is_connected(adj_list_connected))  # ✅ Expected: True\n",
    "\n"
   ]
  },
  {
   "cell_type": "markdown",
   "metadata": {},
   "source": [
    "## # 6. Given a graph and a list of vertices, check if it forms a walk, trail, path, or none.\n"
   ]
  },
  {
   "cell_type": "code",
   "execution_count": 8,
   "metadata": {},
   "outputs": [
    {
     "name": "stdout",
     "output_type": "stream",
     "text": [
      "Sequence 1 is a: Path\n",
      "Sequence 2 is a: Walk\n",
      "Sequence is a: Trail\n"
     ]
    }
   ],
   "source": [
    "# Classify a walk as \"Path\", \"Trail\", or \"Walk\" based on repeated vertices or edges\n",
    "def classify_walk(adj_list, sequence):\n",
    "    visited_edges = []  # List to keep track of visited edges\n",
    "    repeated_vertex = False  # Flag to check if any vertex is repeated\n",
    "    repeated_edge = False  # Flag to check if any edge is repeated\n",
    "\n",
    "    for i in range(len(sequence) - 1):  # Loop through the sequence of nodes\n",
    "        u = sequence[i]\n",
    "        v = sequence[i + 1]\n",
    "\n",
    "        if u not in adj_list:  # If u is not in the adjacency list, return \"None\"\n",
    "            return \"None\"\n",
    "\n",
    "        found = False\n",
    "        for neighbor in adj_list[u]:  # Check if v is a valid neighbor of u\n",
    "            if neighbor == v:\n",
    "                found = True\n",
    "                break\n",
    "\n",
    "        if not found:  # If v is not a neighbor of u, return \"None\"\n",
    "            return \"None\"\n",
    "\n",
    "        if (u, v) in visited_edges:  # Check if the edge (u, v) has already been visited\n",
    "            repeated_edge = True  # If the edge is repeated, set flag to True\n",
    "        else:\n",
    "            visited_edges.append((u, v))  # Otherwise, mark the edge as visited\n",
    "\n",
    "    # Check if any vertex is repeated in the sequence\n",
    "    for i in range(len(sequence)):\n",
    "        for j in range(i + 1, len(sequence)):\n",
    "            if sequence[i] == sequence[j]:  # If a vertex is repeated, set flag to True\n",
    "                repeated_vertex = True\n",
    "\n",
    "    if not repeated_vertex:  # If no vertex is repeated, it's a \"Path\"\n",
    "        return \"Path\"\n",
    "    elif not repeated_edge:  # If no edge is repeated, it's a \"Trail\"\n",
    "        return \"Trail\"\n",
    "    else:  # If both vertices and edges are repeated, it's a \"Walk\"\n",
    "        return \"Walk\"\n",
    "adj_list = {\n",
    "    's1': ['s2', 's3'],\n",
    "    's2': ['s1', 's3'],\n",
    "    's3': ['s1', 's2']\n",
    "}\n",
    "\n",
    "sequence1 = ['s1', 's2', 's3']\n",
    "print(\"Sequence 1 is a:\", classify_walk(adj_list, sequence1))  # ✅ Expected: Path\n",
    "sequence2 = ['s1', 's2', 's1', 's2']\n",
    "print(\"Sequence 2 is a:\", classify_walk(adj_list, sequence2))  # ✅ Expected: Walk\n",
    "sequence_trail = ['s1', 's2', 's3', 's2']\n",
    "print(\"Sequence is a:\", classify_walk(adj_list, sequence_trail))  # ✅ Expected: Trail\n"
   ]
  },
  {
   "cell_type": "markdown",
   "metadata": {},
   "source": [
    "## # 7. Check if a graph is a tree (connected and has no cycles)"
   ]
  },
  {
   "cell_type": "code",
   "execution_count": 10,
   "metadata": {},
   "outputs": [
    {
     "name": "stdout",
     "output_type": "stream",
     "text": [
      "Is the graph a tree? True\n",
      "Is the graph a tree? False\n"
     ]
    }
   ],
   "source": [
    "# Check if the graph is a tree (connected and acyclic)\n",
    "def is_tree(adj_list):\n",
    "    nodes = list(adj_list)  # Get all the nodes in the graph\n",
    "    visited = []  # List to keep track of visited nodes\n",
    "\n",
    "    # Depth-first search (DFS) function to check for cycles\n",
    "    def dfs(node, parent):\n",
    "        visited.append(node)  # Mark the current node as visited\n",
    "        neighbors = adj_list[node]  # Get the neighbors of the current node\n",
    "        for i in range(len(neighbors)):  # Loop through the neighbors\n",
    "            neighbor = neighbors[i]\n",
    "            if neighbor != parent:  # Skip the parent node (to avoid going back)\n",
    "                if neighbor in visited:  # If a neighbor is visited, it means there's a cycle\n",
    "                    return False\n",
    "                if not dfs(neighbor, node):  # Recursively check the neighbors\n",
    "                    return False\n",
    "        return True\n",
    "\n",
    "    if not dfs(nodes[0], None):  # Start DFS from the first node, no parent\n",
    "        return False  # If DFS returns False, the graph has a cycle, so it's not a tree\n",
    "\n",
    "    if len(visited) != len(nodes):  # If not all nodes are visited, the graph is not connected\n",
    "        return False\n",
    "\n",
    "    return True  # The graph is a tree (connected and acyclic)\n",
    "    # Tree structure:\n",
    "# s1 — s2 — s3  (No cycles, all nodes connected)\n",
    "\n",
    "adj_list_tree = {\n",
    "    's1': ['s2'],\n",
    "    's2': ['s1', 's3'],\n",
    "    's3': ['s2']\n",
    "}\n",
    "\n",
    "print(\"Is the graph a tree?\", is_tree(adj_list_tree))  # ✅ Expected: True\n",
    "\n",
    "# Graph with a cycle:\n",
    "# s1 — s2\n",
    "#  \\   /\n",
    "#   s3\n",
    "\n",
    "adj_list_cycle = {\n",
    "    's1': ['s2', 's3'],\n",
    "    's2': ['s1', 's3'],\n",
    "    's3': ['s1', 's2']\n",
    "}\n",
    "\n",
    "print(\"Is the graph a tree?\", is_tree(adj_list_cycle))  # ❌ Expected: False\n",
    "\n"
   ]
  },
  {
   "cell_type": "markdown",
   "metadata": {},
   "source": [
    "## #8.Given a connected cyclic graph, find its spanning tree."
   ]
  },
  {
   "cell_type": "code",
   "execution_count": null,
   "metadata": {},
   "outputs": [
    {
     "name": "stdout",
     "output_type": "stream",
     "text": [
      "Spanning Tree:\n",
      "s1 → ['s2']\n",
      "s2 → ['s3']\n",
      "s3 → []\n"
     ]
    }
   ],
   "source": [
    "# Function to find the spanning tree of a connected cyclic graph\n",
    "def find_spanning_tree(adj_list):\n",
    "    visited = []              # List to keep track of visited nodes\n",
    "    spanning_tree = {}        # Dictionary to store the resulting spanning tree\n",
    "s\n",
    "    # DFS function to build the spanning tree\n",
    "    def dfs(node):\n",
    "        visited.append(node)          # Mark node as visited\n",
    "        spanning_tree[node] = []      # Create empty neighbor list for current node\n",
    "        \n",
    "        for neighbor in adj_list[node]:  # Go through all neighbors\n",
    "            if neighbor not in visited:  # If neighbor not visited, it's a valid tree edge\n",
    "                spanning_tree[node].append(neighbor)   # Add edge to the tree\n",
    "                if neighbor not in spanning_tree:\n",
    "                    spanning_tree[neighbor] = []       # Initialize neighbor if not already\n",
    "                spanning_tree[neighbor].append(node)   # Add reverse connection (undirected)\n",
    "                dfs(neighbor)                          # Recur for neighbor\n",
    "\n",
    "    start_node = list(adj_list)[0]  # Start DFS from any node (first in the list)\n",
    "    dfs(start_node)                 # Begin DFS\n",
    "\n",
    "    return spanning_tree            # Return the final spanning tree\n",
    "# Graph:\n",
    "# s1 — s2\n",
    "#  \\   /\n",
    "#   s3\n",
    "\n",
    "cyclic_graph = {\n",
    "    's1': ['s2', 's3'],\n",
    "    's2': ['s1', 's3'],\n",
    "    's3': ['s1', 's2']\n",
    "}\n",
    "\n",
    "spanning_tree = find_spanning_tree(cyclic_graph)\n",
    "print(\"Spanning Tree:\")\n",
    "for node in spanning_tree:\n",
    "    print(f\"{node} → {spanning_tree[node]}\")\n"
   ]
  },
  {
   "cell_type": "markdown",
   "metadata": {},
   "source": [
    "## # 9.Given a tree, find the number of leaf nodes."
   ]
  },
  {
   "cell_type": "code",
   "execution_count": 12,
   "metadata": {},
   "outputs": [
    {
     "name": "stdout",
     "output_type": "stream",
     "text": [
      "Total number of leaf nodes: 3\n"
     ]
    }
   ],
   "source": [
    "# Count the number of leaf nodes in a tree\n",
    "def count_leaf_nodes(tree, root):\n",
    "    visited = []  # List to keep track of visited nodes\n",
    "    leaf_count = 0  # Counter for the leaf nodes\n",
    "\n",
    "    # Depth-first search (DFS) function to traverse the tree\n",
    "    def dfs(node, parent):\n",
    "        nonlocal leaf_count  # Access the outer leaf_count variable\n",
    "        visited.append(node)  # Mark the current node as visited\n",
    "        children = 0  # Counter to track the number of children of the current node\n",
    "\n",
    "        for neighbor in tree[node]:  # Loop through the neighbors (children) of the current node\n",
    "            if neighbor != parent:  # Skip the parent to avoid going back\n",
    "                children += 1  # Increment children count\n",
    "                dfs(neighbor, node)  # Recursively visit the neighbor\n",
    "\n",
    "        if children == 0:  # If the node has no children, it's a leaf node\n",
    "            leaf_count += 1  # Increment the leaf count\n",
    "\n",
    "    dfs(root, None)  # Start DFS from the root, with no parent\n",
    "    return leaf_count  # Return the total count of leaf \n",
    "    # Example Tree Structure:\n",
    "#       s1\n",
    "#     /    \\\n",
    "#    s2     s3\n",
    "#   /  \\      \\\n",
    "#  s4   s5     s6\n",
    "\n",
    "tree = {\n",
    "    's1': ['s2', 's3'],  # s1 connects to s2 and s3\n",
    "    's2': ['s1', 's4', 's5'],  # s2 connects to s1, s4, and s5\n",
    "    's3': ['s1', 's6'],  # s3 connects to s1 and s6\n",
    "    's4': ['s2'],  # s4 connects to s2\n",
    "    's5': ['s2'],  # s5 connects to s2\n",
    "    's6': ['s3']   # s6 connects to s3\n",
    "}\n",
    "\n",
    "root = 's1'\n",
    "\n",
    "# Call the function to count leaf nodes\n",
    "leaf_count = count_leaf_nodes(tree, root)\n",
    "\n",
    "# Output the result\n",
    "print(f\"Total number of leaf nodes: {leaf_count}\")\n",
    "\n"
   ]
  },
  {
   "cell_type": "markdown",
   "metadata": {},
   "source": [
    "## # 10.Given a tree, check if it's a binary tree."
   ]
  },
  {
   "cell_type": "code",
   "execution_count": 13,
   "metadata": {},
   "outputs": [
    {
     "name": "stdout",
     "output_type": "stream",
     "text": [
      "Is this tree a binary tree? True\n"
     ]
    }
   ],
   "source": [
    "# Check if the tree is a binary tree (each node can have at most 2 children)\n",
    "def is_binary_tree(tree):\n",
    "    for node in tree:  # Loop through each node in the tree\n",
    "        if len(tree[node]) > 3:  # If a node has more than 2 children (including the parent), it's not a binary tree\n",
    "            return False  # Return False if any node has more than 2 children\n",
    "    return True  # Return True if all nodes have 2 or fewer children\n",
    "    # Example Tree Structure:\n",
    "#       s1\n",
    "#     /    \\\n",
    "#    s2     s3\n",
    "#   /  \\\n",
    "#  s4   s5\n",
    "\n",
    "tree = {\n",
    "    's1': ['s2', 's3'],  # s1 connects to s2 and s3\n",
    "    's2': ['s1', 's4', 's5'],  # s2 connects to s1, s4, and s5\n",
    "    's3': ['s1'],  # s3 connects to s1\n",
    "    's4': ['s2'],  # s4 connects to s2\n",
    "    's5': ['s2'],  # s5 connects to s2\n",
    "}\n",
    "\n",
    "# Check if the tree is a binary tree\n",
    "result = is_binary_tree(tree)\n",
    "\n",
    "# Output the result\n",
    "print(f\"Is this tree a binary tree? {result}\")\n",
    "\n"
   ]
  },
  {
   "cell_type": "markdown",
   "metadata": {},
   "source": [
    "## # 11.Given a tree, find its height."
   ]
  },
  {
   "cell_type": "code",
   "execution_count": 14,
   "metadata": {},
   "outputs": [
    {
     "name": "stdout",
     "output_type": "stream",
     "text": [
      "Height of the tree: 2\n"
     ]
    }
   ],
   "source": [
    "# Find the height of a tree (longest path from root to leaf)\n",
    "def find_height(tree, root):\n",
    "    # Depth-first search (DFS) function to calculate height\n",
    "    def dfs(node, parent):\n",
    "        max_height = 0  # Initialize max height for the current node\n",
    "        for neighbor in tree[node]:  # Loop through the neighbors (children)\n",
    "            if neighbor != parent:  # Skip the parent to avoid going back\n",
    "                h = dfs(neighbor, node)  # Recursively find height for each child\n",
    "                if h > max_height:  # Update max height if a higher height is found\n",
    "                    max_height = h\n",
    "        return max_height + 1  # Return the height of the current node (add 1 for the current node)\n",
    "\n",
    "    return dfs(root, None) - 1  # Start DFS from the root and subtract 1 to get the tree height\n",
    "    # Example Tree Structure:\n",
    "#       s1\n",
    "#     /    \\\n",
    "#    s2     s3\n",
    "#   /  \\\n",
    "#  s4   s5\n",
    "\n",
    "tree = {\n",
    "    's1': ['s2', 's3'],  # s1 connects to s2 and s3\n",
    "    's2': ['s1', 's4', 's5'],  # s2 connects to s1, s4, and s5\n",
    "    's3': ['s1'],  # s3 connects to s1\n",
    "    's4': ['s2'],  # s4 connects to s2\n",
    "    's5': ['s2'],  # s5 connects to s2\n",
    "}\n",
    "\n",
    "# Find the height of the tree\n",
    "height = find_height(tree, 's1')\n",
    "\n",
    "# Output the result\n",
    "print(f\"Height of the tree: {height}\")\n",
    "\n"
   ]
  },
  {
   "cell_type": "markdown",
   "metadata": {},
   "source": [
    "## # 12.Given a tree, find its depth"
   ]
  },
  {
   "cell_type": "code",
   "execution_count": 15,
   "metadata": {},
   "outputs": [
    {
     "name": "stdout",
     "output_type": "stream",
     "text": [
      "Depth of node s4: 2\n"
     ]
    }
   ],
   "source": [
    "# Find the depth of a target node in the tree\n",
    "def find_depth(tree, root, target):\n",
    "    visited = []  # List to track visited nodes\n",
    "    result = [-1]  # List to store the depth of the target node (default -1 if not found)\n",
    "\n",
    "    # Depth-first search (DFS) function to find the depth\n",
    "    def dfs(node, parent, d):\n",
    "        visited.append(node)  # Mark the current node as visited\n",
    "        if node == target:  # If the current node is the target, store its depth\n",
    "            result[0] = d\n",
    "            return  # Stop recursion once the target is found\n",
    "        for i in range(len(tree[node])):  # Loop through the neighbors (children)\n",
    "            neighbor = tree[node][i]\n",
    "            if neighbor != parent:  # Avoid going back to the parent node\n",
    "                dfs(neighbor, node, d + 1)  # Recursively visit the neighbor with incremented depth\n",
    "\n",
    "    dfs(root, None, 0)  # Start DFS from the root with depth 0\n",
    "    return result[0]  # Return the depth of the target node\n",
    "# Example Tree Structure:\n",
    "#       s1\n",
    "#     /    \\\n",
    "#    s2     s3\n",
    "#   /  \\\n",
    "#  s4   s5\n",
    "\n",
    "tree = {\n",
    "    's1': ['s2', 's3'],  # s1 connects to s2 and s3\n",
    "    's2': ['s1', 's4', 's5'],  # s2 connects to s1, s4, and s5\n",
    "    's3': ['s1'],  # s3 connects to s1\n",
    "    's4': ['s2'],  # s4 connects to s2\n",
    "    's5': ['s2'],  # s5 connects to s2\n",
    "}\n",
    "\n",
    "# Find the depth of node s4\n",
    "depth = find_depth(tree, 's1', 's4')\n",
    "\n",
    "# Output the result\n",
    "print(f\"Depth of node s4: {depth}\")\n"
   ]
  }
 ],
 "metadata": {
  "kernelspec": {
   "display_name": "Python 3",
   "language": "python",
   "name": "python3"
  },
  "language_info": {
   "codemirror_mode": {
    "name": "ipython",
    "version": 3
   },
   "file_extension": ".py",
   "mimetype": "text/x-python",
   "name": "python",
   "nbconvert_exporter": "python",
   "pygments_lexer": "ipython3",
   "version": "3.12.5"
  }
 },
 "nbformat": 4,
 "nbformat_minor": 2
}
